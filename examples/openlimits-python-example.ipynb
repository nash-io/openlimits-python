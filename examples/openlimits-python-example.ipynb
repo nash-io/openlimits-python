{
 "cells": [
  {
   "cell_type": "markdown",
   "metadata": {},
   "source": [
    "# Openlimits Python Example"
   ]
  },
  {
   "cell_type": "code",
   "execution_count": 1,
   "metadata": {},
   "outputs": [],
   "source": [
    "import openlimits_python\n",
    "from dotenv import load_dotenv\n",
    "import os"
   ]
  },
  {
   "cell_type": "markdown",
   "metadata": {},
   "source": [
    "## Setup\n",
    "\n",
    "Initialize a new client from API key data. This only works for Nash at the moment."
   ]
  },
  {
   "cell_type": "code",
   "execution_count": 2,
   "metadata": {},
   "outputs": [],
   "source": [
    "load_dotenv()\n",
    "client = openlimits_python.NashClient(os.getenv(\"NASH_API_SECRET\"), os.getenv(\"NASH_API_KEY\"))"
   ]
  },
  {
   "cell_type": "markdown",
   "metadata": {},
   "source": [
    "## Account and Market queries\n",
    "\n",
    "You can find the full set of queries supported [here](https://github.com/nash-io/openlimits-python/blob/master/src/lib.rs)"
   ]
  },
  {
   "cell_type": "code",
   "execution_count": 3,
   "metadata": {
    "scrolled": true
   },
   "outputs": [
    {
     "data": {
      "text/plain": [
       "[{'balance': {'asset': 'nnn',\n",
       "   'free': '0.0443160562500000000000000',\n",
       "   'total': '0.0443160562500000000000000'}},\n",
       " {'balance': {'asset': 'qnt',\n",
       "   'free': '0.0011742091125000000000000',\n",
       "   'total': '0.0011742091125000000000000'}},\n",
       " {'balance': {'asset': 'bat',\n",
       "   'free': '1.9740604732500000000000000',\n",
       "   'total': '1.9740604732500000000000000'}},\n",
       " {'balance': {'asset': 'gunthy',\n",
       "   'free': '5.5814223834375000000000000',\n",
       "   'total': '5.5814223834375000000000000'}},\n",
       " {'balance': {'asset': 'eth',\n",
       "   'free': '0.0281682628959737500000000',\n",
       "   'total': '0.1281682628959737500000000'}}]"
      ]
     },
     "execution_count": 3,
     "metadata": {},
     "output_type": "execute_result"
    }
   ],
   "source": [
    "client.get_account_balances(None)[:5] # None is for pagination + just sample 5"
   ]
  },
  {
   "cell_type": "code",
   "execution_count": 6,
   "metadata": {},
   "outputs": [
    {
     "data": {
      "text/plain": [
       "[{'order': {'id': '1603597218370000000',\n",
       "   'market_pair': 'btc_usdc',\n",
       "   'price': '13287.60000000',\n",
       "   'order_type': {'order_type': 'limit'},\n",
       "   'client_order_id': None,\n",
       "   'created_at': 1603597218367,\n",
       "   'side': {'side': 'sell'},\n",
       "   'size': '0.000383810',\n",
       "   'status': {'order_status': 'filled'}}},\n",
       " {'order': {'id': '1603557123448000000',\n",
       "   'market_pair': 'btc_usdc',\n",
       "   'price': '13074.40000000',\n",
       "   'order_type': {'order_type': 'limit'},\n",
       "   'client_order_id': None,\n",
       "   'created_at': 1603557123446,\n",
       "   'side': {'side': 'buy'},\n",
       "   'size': '0.000986660',\n",
       "   'status': {'order_status': 'filled'}}}]"
      ]
     },
     "execution_count": 6,
     "metadata": {},
     "output_type": "execute_result"
    }
   ],
   "source": [
    "client.get_order_history(\"btc_usdc\", None)[:2] # None for pagination + just look at first two"
   ]
  },
  {
   "cell_type": "code",
   "execution_count": 5,
   "metadata": {},
   "outputs": [
    {
     "data": {
      "text/plain": [
       "{'order': {'id': '1603825281736000000',\n",
       "  'market_pair': 'eth_usdc',\n",
       "  'price': None,\n",
       "  'order_type': {'order_type': 'limit'},\n",
       "  'client_order_id': None,\n",
       "  'created_at': 1603825281733,\n",
       "  'side': {'side': 'buy'},\n",
       "  'size': '0',\n",
       "  'status': {'order_status': 'pending'}}}"
      ]
     },
     "execution_count": 5,
     "metadata": {},
     "output_type": "execute_result"
    }
   ],
   "source": [
    "client.limit_buy(\"eth_usdc\", \"0.0171\", \"350.46\")"
   ]
  },
  {
   "cell_type": "code",
   "execution_count": 6,
   "metadata": {},
   "outputs": [
    {
     "data": {
      "text/plain": [
       "{'order': {'id': '1603825281736000000',\n",
       "  'market_pair': 'eth_usdc',\n",
       "  'price': '350.46000000',\n",
       "  'order_type': {'order_type': 'limit'},\n",
       "  'client_order_id': None,\n",
       "  'created_at': 1603825281733,\n",
       "  'side': {'side': 'buy'},\n",
       "  'size': '0.017100',\n",
       "  'status': {'order_status': 'open'}}}"
      ]
     },
     "execution_count": 6,
     "metadata": {},
     "output_type": "execute_result"
    }
   ],
   "source": [
    "client.get_order(\"1603825281736000000\")"
   ]
  },
  {
   "cell_type": "code",
   "execution_count": 7,
   "metadata": {},
   "outputs": [
    {
     "data": {
      "text/plain": [
       "{'order_canceled': '1603825281736000000'}"
      ]
     },
     "execution_count": 7,
     "metadata": {},
     "output_type": "execute_result"
    }
   ],
   "source": [
    "client.cancel_order(\"eth_usdc\", \"1603825281736000000\")"
   ]
  },
  {
   "cell_type": "code",
   "execution_count": 7,
   "metadata": {},
   "outputs": [
    {
     "data": {
      "text/plain": [
       "[{'trade': {'liquidity': {'liquidity': 'maker'},\n",
       "   'market_pair': 'btc_usdc',\n",
       "   'price': '13636.50000000',\n",
       "   'qty': '0.000652850',\n",
       "   'order_id': '1603825447003000000',\n",
       "   'side': {'side': 'buy'},\n",
       "   'created_at': 1603826518114,\n",
       "   'fees': '0',\n",
       "   'id': 'NWODxQWUdCn34pa8Vydcz-84vjKefwH1jQ46opPkSAE'}},\n",
       " {'trade': {'liquidity': {'liquidity': 'maker'},\n",
       "   'market_pair': 'btc_usdc',\n",
       "   'price': '13636.50000000',\n",
       "   'qty': '0.001467000',\n",
       "   'order_id': '1603825446980000001',\n",
       "   'side': {'side': 'buy'},\n",
       "   'created_at': 1603826518114,\n",
       "   'fees': '0',\n",
       "   'id': 'Tt25Xq82l-sgME_kW5Y3kW_mp1XvVhCeKLHHIPivH_8'}}]"
      ]
     },
     "execution_count": 7,
     "metadata": {},
     "output_type": "execute_result"
    }
   ],
   "source": [
    "client.get_historic_trades(\"btc_usdc\", None)[:2] # None is for pagination + just look at first two"
   ]
  },
  {
   "cell_type": "markdown",
   "metadata": {},
   "source": [
    "## Subscriptions\n",
    "\n",
    "Subscriptions work by registering a callback function with the client. This callback function will be passed every incoming event on the subscription. The callback executes within a seperate thread managed by the openlimits Rust library. The client instance and other state may be accessed within the callback via declared `global` variables."
   ]
  },
  {
   "cell_type": "code",
   "execution_count": 13,
   "metadata": {},
   "outputs": [],
   "source": [
    "state = {\"num_events\": 0, \"events\":[]} # a simple example of state\n",
    "\n",
    "# this will be our callback function\n",
    "def process_event(event):\n",
    "    global client # we can use this to access the client and react to events\n",
    "    global state\n",
    "    \n",
    "    state[\"num_events\"] += 1\n",
    "    state[\"events\"].append(event)"
   ]
  },
  {
   "cell_type": "code",
   "execution_count": 14,
   "metadata": {},
   "outputs": [],
   "source": [
    "# now we register the callback with the client\n",
    "client.set_subscription_callback(process_event)"
   ]
  },
  {
   "cell_type": "code",
   "execution_count": 15,
   "metadata": {},
   "outputs": [],
   "source": [
    "# now we subscribe to the orderbook\n",
    "# the second param limits the number of events we get back. we set to 0 as it is not used at the moment\n",
    "client.subscribe({\"orderbook\":(\"btc_usdc\", 0)}) "
   ]
  },
  {
   "cell_type": "code",
   "execution_count": 16,
   "metadata": {},
   "outputs": [
    {
     "name": "stdout",
     "output_type": "stream",
     "text": [
      "25\n"
     ]
    }
   ],
   "source": [
    "# now we wait a few moments and inspect the state\n",
    "print(state[\"num_events\"])"
   ]
  },
  {
   "cell_type": "code",
   "execution_count": 18,
   "metadata": {},
   "outputs": [
    {
     "name": "stdout",
     "output_type": "stream",
     "text": [
      "{'orderbook': {'asks': [{'ask_or_bid': {'price': '13636.50000000', 'qty': '0.27078008'}}, {'ask_or_bid': {'price': '13707.80000000', 'qty': '0.70000000'}}, {'ask_or_bid': {'price': '13709.30000000', 'qty': '0.00000000'}}], 'bids': [{'ask_or_bid': {'price': '13544.50000000', 'qty': '1.00000000'}}, {'ask_or_bid': {'price': '13555.40000000', 'qty': '0.85000000'}}, {'ask_or_bid': {'price': '13614.10000000', 'qty': '0.02277053'}}, {'ask_or_bid': {'price': '13614.60000000', 'qty': '0.10073450'}}, {'ask_or_bid': {'price': '13622.70000000', 'qty': '0.00367034'}}]}}\n"
     ]
    }
   ],
   "source": [
    "# here is the latest incoming event\n",
    "print(state[\"events\"][-1])"
   ]
  },
  {
   "cell_type": "code",
   "execution_count": null,
   "metadata": {},
   "outputs": [],
   "source": []
  }
 ],
 "metadata": {
  "kernelspec": {
   "display_name": "Python 3",
   "language": "python",
   "name": "python3"
  },
  "language_info": {
   "codemirror_mode": {
    "name": "ipython",
    "version": 3
   },
   "file_extension": ".py",
   "mimetype": "text/x-python",
   "name": "python",
   "nbconvert_exporter": "python",
   "pygments_lexer": "ipython3",
   "version": "3.8.5"
  }
 },
 "nbformat": 4,
 "nbformat_minor": 4
}
