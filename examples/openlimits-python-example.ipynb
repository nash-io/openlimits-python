{
 "cells": [
  {
   "cell_type": "markdown",
   "metadata": {},
   "source": [
    "# Openlimits Python Example"
   ]
  },
  {
   "cell_type": "code",
   "execution_count": 1,
   "metadata": {},
   "outputs": [],
   "source": [
    "from openlimits_python import ExchangeClient\n",
    "from dotenv import load_dotenv\n",
    "import os"
   ]
  },
  {
   "cell_type": "markdown",
   "metadata": {},
   "source": [
    "## Setup\n",
    "\n",
    "Initialize a new client from API key data. Exchanges take different initialization params"
   ]
  },
  {
   "cell_type": "code",
   "execution_count": 4,
   "metadata": {},
   "outputs": [],
   "source": [
    "# this allows python to pull ENV variables from a .env file, nothing to do with the API\n",
    "load_dotenv()\n",
    "\n",
    "# exchange initialization and credentials for nash\n",
    "nash_creds = {\n",
    "    \"nash\": {\n",
    "        \"credentials\": {\n",
    "            \"nash_credentials\": {\n",
    "                \"secret\": os.getenv(\"NASH_API_SECRET\"),\n",
    "                \"session\": os.getenv(\"NASH_API_KEY\")\n",
    "            },\n",
    "        },\n",
    "        \"client_id\": 0,\n",
    "        \"environment\": \"production\",\n",
    "        \"affiliate_code\": None,\n",
    "        \"timeout\": 10000\n",
    "    }\n",
    "}\n",
    "\n",
    "# other exchanges take slightly different initialization credentials\n",
    "binance_creds = {\n",
    "    \"binance\": {\n",
    "        \"credentials\": None, # we could provide API keys here\n",
    "        \"sandbox\": False,\n",
    "    }\n",
    "}"
   ]
  },
  {
   "cell_type": "code",
   "execution_count": 5,
   "metadata": {},
   "outputs": [],
   "source": [
    "# initialize a Nash client\n",
    "client = ExchangeClient(nash_creds)"
   ]
  },
  {
   "cell_type": "markdown",
   "metadata": {},
   "source": [
    "## Account and Market queries\n",
    "\n",
    "You can find the full set of queries supported [here](https://github.com/nash-io/openlimits-python/blob/master/src/lib.rs)"
   ]
  },
  {
   "cell_type": "code",
   "execution_count": 7,
   "metadata": {
    "scrolled": true
   },
   "outputs": [
    {
     "data": {
      "text/plain": [
       "[{'balance': {'asset': 'qnt',\n",
       "   'free': '0.0011742091125000000000000',\n",
       "   'total': '0.0011742091125000000000000'}},\n",
       " {'balance': {'asset': 'zrx',\n",
       "   'free': '0.3051298050000000000000000',\n",
       "   'total': '0.3051298050000000000000000'}},\n",
       " {'balance': {'asset': 'nnn',\n",
       "   'free': '0.0443160562500000000000000',\n",
       "   'total': '0.0443160562500000000000000'}},\n",
       " {'balance': {'asset': 'gunthy',\n",
       "   'free': '7.9671055753125000000000000',\n",
       "   'total': '7.9671055753125000000000000'}},\n",
       " {'balance': {'asset': 'noia',\n",
       "   'free': '98.0178965322462500000000000',\n",
       "   'total': '98.0178965322462500000000000'}}]"
      ]
     },
     "execution_count": 7,
     "metadata": {},
     "output_type": "execute_result"
    }
   ],
   "source": [
    "client.get_account_balances(None)[:5] # None is for pagination + just sample 5"
   ]
  },
  {
   "cell_type": "code",
   "execution_count": 8,
   "metadata": {},
   "outputs": [
    {
     "data": {
      "text/plain": [
       "[{'order': {'id': '1606505075762000000',\n",
       "   'market_pair': 'btc_usdc',\n",
       "   'price': '16815.90000000',\n",
       "   'order_type': {'order_type': 'limit'},\n",
       "   'client_order_id': None,\n",
       "   'created_at': 1606505075759,\n",
       "   'side': {'side': 'buy'},\n",
       "   'size': '0.001064460',\n",
       "   'status': {'order_status': 'filled'}}},\n",
       " {'order': {'id': '1606349176498000000',\n",
       "   'market_pair': 'btc_usdc',\n",
       "   'price': '18651.60000000',\n",
       "   'order_type': {'order_type': 'limit'},\n",
       "   'client_order_id': None,\n",
       "   'created_at': 1606349176496,\n",
       "   'side': {'side': 'buy'},\n",
       "   'size': '0.001190240',\n",
       "   'status': {'order_status': 'filled'}}}]"
      ]
     },
     "execution_count": 8,
     "metadata": {},
     "output_type": "execute_result"
    }
   ],
   "source": [
    "client.get_order_history(\"btc_usdc\", None)[:2] # None for pagination + just look at first two"
   ]
  },
  {
   "cell_type": "code",
   "execution_count": 4,
   "metadata": {},
   "outputs": [
    {
     "data": {
      "text/plain": [
       "{'order': {'id': '1604271564576000000',\n",
       "  'market_pair': 'eth_usdc',\n",
       "  'price': None,\n",
       "  'order_type': {'order_type': 'limit'},\n",
       "  'client_order_id': None,\n",
       "  'created_at': 1604271564574,\n",
       "  'side': {'side': 'buy'},\n",
       "  'size': '0',\n",
       "  'status': {'order_status': 'pending'}}}"
      ]
     },
     "execution_count": 4,
     "metadata": {},
     "output_type": "execute_result"
    }
   ],
   "source": [
    "client.limit_buy(\"eth_usdc\", \"0.0171\", \"350.46\", {\"time_in_force\": \"1m\"})"
   ]
  },
  {
   "cell_type": "code",
   "execution_count": 9,
   "metadata": {},
   "outputs": [
    {
     "data": {
      "text/plain": [
       "{'order': {'id': '1604271564576000000',\n",
       "  'market_pair': 'eth_usdc',\n",
       "  'price': '350.46000000',\n",
       "  'order_type': {'order_type': 'limit'},\n",
       "  'client_order_id': None,\n",
       "  'created_at': 1604271564574,\n",
       "  'side': {'side': 'buy'},\n",
       "  'size': '0.017100',\n",
       "  'status': {'order_status': 'canceled'}}}"
      ]
     },
     "execution_count": 9,
     "metadata": {},
     "output_type": "execute_result"
    }
   ],
   "source": [
    "client.get_order(\"1604271564576000000\")"
   ]
  },
  {
   "cell_type": "code",
   "execution_count": 6,
   "metadata": {},
   "outputs": [
    {
     "data": {
      "text/plain": [
       "{'order_canceled': '1604271564576000000'}"
      ]
     },
     "execution_count": 6,
     "metadata": {},
     "output_type": "execute_result"
    }
   ],
   "source": [
    "client.cancel_order(\"eth_usdc\", \"1604271564576000000\")"
   ]
  },
  {
   "cell_type": "code",
   "execution_count": 10,
   "metadata": {},
   "outputs": [
    {
     "data": {
      "text/plain": [
       "[{'trade': {'liquidity': {'liquidity': 'maker'},\n",
       "   'market_pair': 'btc_usdc',\n",
       "   'price': '17785.70000000',\n",
       "   'qty': '0.001558000',\n",
       "   'order_id': '1606606221682000000',\n",
       "   'side': {'side': 'sell'},\n",
       "   'created_at': 1606606440729,\n",
       "   'fees': '0',\n",
       "   'id': 'uZq070kta45yDrn927UzMrvAKg2hj1u-GgyirdWSmC4'}},\n",
       " {'trade': {'liquidity': {'liquidity': 'maker'},\n",
       "   'market_pair': 'btc_usdc',\n",
       "   'price': '17785.70000000',\n",
       "   'qty': '0.002655000',\n",
       "   'order_id': '1606606221564000000',\n",
       "   'side': {'side': 'sell'},\n",
       "   'created_at': 1606606440729,\n",
       "   'fees': '0',\n",
       "   'id': 'SDqk4VDTrjU_PF56eDX63DF5HNGj3wQiYaB0AVoCMwg'}}]"
      ]
     },
     "execution_count": 10,
     "metadata": {},
     "output_type": "execute_result"
    }
   ],
   "source": [
    "client.get_historic_trades(\"btc_usdc\", None)[:2] # None is for pagination + just look at first two"
   ]
  },
  {
   "cell_type": "code",
   "execution_count": 11,
   "metadata": {},
   "outputs": [
    {
     "data": {
      "text/plain": [
       "{'ticker': {'price': '17785.75000000'}}"
      ]
     },
     "execution_count": 11,
     "metadata": {},
     "output_type": "execute_result"
    }
   ],
   "source": [
    "client.get_ticker(\"btc_usdc\")"
   ]
  },
  {
   "cell_type": "markdown",
   "metadata": {},
   "source": [
    "## Subscriptions\n",
    "\n",
    "Subscriptions work by registering a callback function with the client. This callback function will be passed every incoming event on the subscription. The callback executes within a seperate thread managed by the openlimits Rust library. The client instance and other state may be accessed within the callback via declared `global` variables."
   ]
  },
  {
   "cell_type": "code",
   "execution_count": 12,
   "metadata": {},
   "outputs": [],
   "source": [
    "state = {\"num_events\": 0, \"events\":[]} # a simple example of state\n",
    "\n",
    "# this will be our callback function\n",
    "def process_event(event):\n",
    "    global client # we can use this to access the client and react to events\n",
    "    global state\n",
    "    \n",
    "    state[\"num_events\"] += 1\n",
    "    state[\"events\"].append(event)"
   ]
  },
  {
   "cell_type": "code",
   "execution_count": 13,
   "metadata": {},
   "outputs": [],
   "source": [
    "# now we subscribe to the orderbook\n",
    "# the second param limits the number of events we get back. we set to 0 as it is not used at the moment\n",
    "client.subscribe({\"orderbook\":(\"btc_usdc\", 0)}, process_event) "
   ]
  },
  {
   "cell_type": "code",
   "execution_count": 17,
   "metadata": {},
   "outputs": [
    {
     "name": "stdout",
     "output_type": "stream",
     "text": [
      "4\n"
     ]
    }
   ],
   "source": [
    "# now we wait a few moments and inspect the state\n",
    "print(state[\"num_events\"])"
   ]
  },
  {
   "cell_type": "code",
   "execution_count": 36,
   "metadata": {},
   "outputs": [
    {
     "name": "stdout",
     "output_type": "stream",
     "text": [
      "{'orderbook': {'asks': [{'ask_or_bid': {'price': '13242.60000000', 'qty': '0.09278807'}}, {'ask_or_bid': {'price': '13252.40000000', 'qty': '0.00264103'}}, {'ask_or_bid': {'price': '13253.10000000', 'qty': '0.00000000'}}, {'ask_or_bid': {'price': '13253.20000000', 'qty': '3.51262434'}}], 'bids': []}}\n"
     ]
    }
   ],
   "source": [
    "# here is the latest incoming event\n",
    "print(state[\"events\"][-1])"
   ]
  },
  {
   "cell_type": "markdown",
   "metadata": {},
   "source": [
    "## Multiple clients\n",
    "\n",
    "You can run multiple openlimits clients at the same time. The underlying Rust library will spawn multiple processes with independent runtimes. For example, we can initialize a Binance client simultaneously:"
   ]
  },
  {
   "cell_type": "code",
   "execution_count": 8,
   "metadata": {},
   "outputs": [],
   "source": [
    "binance_client = ExchangeClient(binance_creds)"
   ]
  },
  {
   "cell_type": "markdown",
   "metadata": {},
   "source": [
    "We can use it to count the number of available markets on Binance"
   ]
  },
  {
   "cell_type": "code",
   "execution_count": 13,
   "metadata": {},
   "outputs": [
    {
     "name": "stdout",
     "output_type": "stream",
     "text": [
      "1137\n",
      "{'market_pair': {'quote': 'ETH', 'quote_decimal': '0.00000001', 'base': 'POWR', 'base_increment': '1.00000000', 'symbol': 'POWRETH'}}\n"
     ]
    }
   ],
   "source": [
    "print(len(binance_client.list_markets()))\n",
    "print(binance_client.list_markets()[-1])"
   ]
  },
  {
   "cell_type": "markdown",
   "metadata": {},
   "source": [
    "Notably, we can use the same API for callbacks here as well. This will only process events from Binance"
   ]
  },
  {
   "cell_type": "code",
   "execution_count": 15,
   "metadata": {},
   "outputs": [],
   "source": [
    "binance_events = []\n",
    "\n",
    "def callback_for_binance(event):\n",
    "    global binance_events\n",
    "    binance_events.append(event)\n",
    "    \n",
    "binance_client.set_subscription_callback(callback_for_binance)"
   ]
  },
  {
   "cell_type": "code",
   "execution_count": 30,
   "metadata": {},
   "outputs": [],
   "source": [
    "# note that market names still differ between exchanges!\n",
    "binance_client.subscribe({\"orderbook\": (\"btcusdt\", 5)})"
   ]
  },
  {
   "cell_type": "code",
   "execution_count": 37,
   "metadata": {},
   "outputs": [
    {
     "data": {
      "text/plain": [
       "{'orderbook': {'asks': [{'ask_or_bid': {'price': '13226.23000000',\n",
       "     'qty': '12.48326600'}},\n",
       "   {'ask_or_bid': {'price': '13226.39000000', 'qty': '0.00900000'}},\n",
       "   {'ask_or_bid': {'price': '13226.54000000', 'qty': '0.37060500'}},\n",
       "   {'ask_or_bid': {'price': '13226.88000000', 'qty': '0.10417300'}},\n",
       "   {'ask_or_bid': {'price': '13227.03000000', 'qty': '0.00900000'}}],\n",
       "  'bids': [{'ask_or_bid': {'price': '13226.22000000', 'qty': '0.00900000'}},\n",
       "   {'ask_or_bid': {'price': '13226.19000000', 'qty': '0.00201700'}},\n",
       "   {'ask_or_bid': {'price': '13226.01000000', 'qty': '0.18000000'}},\n",
       "   {'ask_or_bid': {'price': '13226.00000000', 'qty': '0.00100000'}},\n",
       "   {'ask_or_bid': {'price': '13225.16000000', 'qty': '0.00078500'}}]}}"
      ]
     },
     "execution_count": 37,
     "metadata": {},
     "output_type": "execute_result"
    }
   ],
   "source": [
    "binance_events[-1]"
   ]
  },
  {
   "cell_type": "code",
   "execution_count": null,
   "metadata": {},
   "outputs": [],
   "source": []
  }
 ],
 "metadata": {
  "kernelspec": {
   "display_name": "Python 3",
   "language": "python",
   "name": "python3"
  },
  "language_info": {
   "codemirror_mode": {
    "name": "ipython",
    "version": 3
   },
   "file_extension": ".py",
   "mimetype": "text/x-python",
   "name": "python",
   "nbconvert_exporter": "python",
   "pygments_lexer": "ipython3",
   "version": "3.8.5"
  }
 },
 "nbformat": 4,
 "nbformat_minor": 4
}
